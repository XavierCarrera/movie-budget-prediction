{
  "nbformat": 4,
  "nbformat_minor": 0,
  "metadata": {
    "colab": {
      "name": "Modeling and Evaluation.ipynb",
      "provenance": [],
      "mount_file_id": "1BipFHCD5_j1XmMLkeEjJbcCrFvUNQxQO",
      "authorship_tag": "ABX9TyN8HdCPo4zIz0HTm0cewDGx",
      "include_colab_link": true
    },
    "kernelspec": {
      "name": "python3",
      "display_name": "Python 3"
    }
  },
  "cells": [
    {
      "cell_type": "markdown",
      "metadata": {
        "id": "view-in-github",
        "colab_type": "text"
      },
      "source": [
        "<a href=\"https://colab.research.google.com/github/XavierCarrera/movie-budget-prediction/blob/main/Modeling_and_Evaluation.ipynb\" target=\"_parent\"><img src=\"https://colab.research.google.com/assets/colab-badge.svg\" alt=\"Open In Colab\"/></a>"
      ]
    },
    {
      "cell_type": "code",
      "metadata": {
        "id": "WucZE3JqL80V"
      },
      "source": [
        "import numpy as np \n",
        "import pandas as pd\n",
        "from sklearn.model_selection import train_test_split\n",
        "from sklearn.linear_model import Lasso\n",
        "import matplotlib.pyplot as plt\n",
        "%matplotlib inline"
      ],
      "execution_count": 13,
      "outputs": []
    },
    {
      "cell_type": "code",
      "metadata": {
        "id": "Gd7GOC0sQ9ST"
      },
      "source": [
        "X = pd.read_csv(\"/content/drive/My Drive/Colab Notebooks/db/X_opening.csv\")"
      ],
      "execution_count": 3,
      "outputs": []
    },
    {
      "cell_type": "code",
      "metadata": {
        "id": "j-CN04EdSXnB",
        "outputId": "5e3f077f-6902-4e81-80e7-0157b56fd5cf",
        "colab": {
          "base_uri": "https://localhost:8080/",
          "height": 224
        }
      },
      "source": [
        "X.head(5)"
      ],
      "execution_count": 4,
      "outputs": [
        {
          "output_type": "execute_result",
          "data": {
            "text/html": [
              "<div>\n",
              "<style scoped>\n",
              "    .dataframe tbody tr th:only-of-type {\n",
              "        vertical-align: middle;\n",
              "    }\n",
              "\n",
              "    .dataframe tbody tr th {\n",
              "        vertical-align: top;\n",
              "    }\n",
              "\n",
              "    .dataframe thead th {\n",
              "        text-align: right;\n",
              "    }\n",
              "</style>\n",
              "<table border=\"1\" class=\"dataframe\">\n",
              "  <thead>\n",
              "    <tr style=\"text-align: right;\">\n",
              "      <th></th>\n",
              "      <th>production_budget</th>\n",
              "      <th>worldwide_gross</th>\n",
              "      <th>title_year</th>\n",
              "      <th>aspect_ratio</th>\n",
              "      <th>duration.1</th>\n",
              "      <th>cast_total_facebook_likes</th>\n",
              "      <th>budget</th>\n",
              "      <th>imdb_score</th>\n",
              "      <th>opening_gross</th>\n",
              "      <th>screens</th>\n",
              "    </tr>\n",
              "  </thead>\n",
              "  <tbody>\n",
              "    <tr>\n",
              "      <th>0</th>\n",
              "      <td>425000000.0</td>\n",
              "      <td>2.783919e+09</td>\n",
              "      <td>2009.0</td>\n",
              "      <td>1.78</td>\n",
              "      <td>178.0</td>\n",
              "      <td>4834.0</td>\n",
              "      <td>237000000.0</td>\n",
              "      <td>7.9</td>\n",
              "      <td>77025481.0</td>\n",
              "      <td>3452.0</td>\n",
              "    </tr>\n",
              "    <tr>\n",
              "      <th>1</th>\n",
              "      <td>300000000.0</td>\n",
              "      <td>9.634204e+08</td>\n",
              "      <td>2007.0</td>\n",
              "      <td>2.35</td>\n",
              "      <td>169.0</td>\n",
              "      <td>48350.0</td>\n",
              "      <td>300000000.0</td>\n",
              "      <td>7.1</td>\n",
              "      <td>139802190.0</td>\n",
              "      <td>4362.0</td>\n",
              "    </tr>\n",
              "    <tr>\n",
              "      <th>2</th>\n",
              "      <td>300000000.0</td>\n",
              "      <td>8.796209e+08</td>\n",
              "      <td>2015.0</td>\n",
              "      <td>2.35</td>\n",
              "      <td>148.0</td>\n",
              "      <td>11700.0</td>\n",
              "      <td>245000000.0</td>\n",
              "      <td>6.8</td>\n",
              "      <td>70403148.0</td>\n",
              "      <td>3929.0</td>\n",
              "    </tr>\n",
              "    <tr>\n",
              "      <th>3</th>\n",
              "      <td>275000000.0</td>\n",
              "      <td>1.084439e+09</td>\n",
              "      <td>2012.0</td>\n",
              "      <td>2.35</td>\n",
              "      <td>164.0</td>\n",
              "      <td>106759.0</td>\n",
              "      <td>250000000.0</td>\n",
              "      <td>8.5</td>\n",
              "      <td>160887295.0</td>\n",
              "      <td>4404.0</td>\n",
              "    </tr>\n",
              "    <tr>\n",
              "      <th>4</th>\n",
              "      <td>275000000.0</td>\n",
              "      <td>2.600021e+08</td>\n",
              "      <td>2013.0</td>\n",
              "      <td>2.35</td>\n",
              "      <td>150.0</td>\n",
              "      <td>45757.0</td>\n",
              "      <td>215000000.0</td>\n",
              "      <td>6.5</td>\n",
              "      <td>29210849.0</td>\n",
              "      <td>3904.0</td>\n",
              "    </tr>\n",
              "  </tbody>\n",
              "</table>\n",
              "</div>"
            ],
            "text/plain": [
              "   production_budget  worldwide_gross  ...  opening_gross  screens\n",
              "0        425000000.0     2.783919e+09  ...     77025481.0   3452.0\n",
              "1        300000000.0     9.634204e+08  ...    139802190.0   4362.0\n",
              "2        300000000.0     8.796209e+08  ...     70403148.0   3929.0\n",
              "3        275000000.0     1.084439e+09  ...    160887295.0   4404.0\n",
              "4        275000000.0     2.600021e+08  ...     29210849.0   3904.0\n",
              "\n",
              "[5 rows x 10 columns]"
            ]
          },
          "metadata": {
            "tags": []
          },
          "execution_count": 4
        }
      ]
    },
    {
      "cell_type": "code",
      "metadata": {
        "id": "e_aOUiaaSawo"
      },
      "source": [
        "y = X['worldwide_gross']"
      ],
      "execution_count": 5,
      "outputs": []
    },
    {
      "cell_type": "code",
      "metadata": {
        "id": "LjwtCDQISlYr"
      },
      "source": [
        "X = X.drop('worldwide_gross',axis=1)"
      ],
      "execution_count": 6,
      "outputs": []
    },
    {
      "cell_type": "code",
      "metadata": {
        "id": "WodMu0CZSmXP"
      },
      "source": [
        "X_train, X_test, y_train, y_test = train_test_split(X,y,test_size=0.4,random_state=1)"
      ],
      "execution_count": 7,
      "outputs": []
    },
    {
      "cell_type": "code",
      "metadata": {
        "id": "U9Bdw1_uSqLh",
        "outputId": "8473f1b9-9fbc-4905-9153-5dec2d9ea9f0",
        "colab": {
          "base_uri": "https://localhost:8080/",
          "height": 68
        }
      },
      "source": [
        "print(len(X))\n",
        "print(len(X_train))\n",
        "print(len(X_test))"
      ],
      "execution_count": 8,
      "outputs": [
        {
          "output_type": "stream",
          "text": [
            "2221\n",
            "1332\n",
            "889\n"
          ],
          "name": "stdout"
        }
      ]
    },
    {
      "cell_type": "code",
      "metadata": {
        "id": "W6ZJv3fUStTL"
      },
      "source": [
        "model = Lasso()"
      ],
      "execution_count": 9,
      "outputs": []
    },
    {
      "cell_type": "code",
      "metadata": {
        "id": "SUNuItDASzaH",
        "outputId": "cd8b24dc-1db4-4735-a7df-5309a27bbee8",
        "colab": {
          "base_uri": "https://localhost:8080/",
          "height": 68
        }
      },
      "source": [
        "model.fit(X_train,y_train)"
      ],
      "execution_count": 10,
      "outputs": [
        {
          "output_type": "execute_result",
          "data": {
            "text/plain": [
              "Lasso(alpha=1.0, copy_X=True, fit_intercept=True, max_iter=1000,\n",
              "      normalize=False, positive=False, precompute=False, random_state=None,\n",
              "      selection='cyclic', tol=0.0001, warm_start=False)"
            ]
          },
          "metadata": {
            "tags": []
          },
          "execution_count": 10
        }
      ]
    },
    {
      "cell_type": "code",
      "metadata": {
        "id": "tnYfgB3vS3g6"
      },
      "source": [
        "predicted = model.predict(X_test)"
      ],
      "execution_count": 11,
      "outputs": []
    },
    {
      "cell_type": "code",
      "metadata": {
        "id": "ALtAKbS7S7e7",
        "outputId": "88be088d-f41e-4afe-9b72-ffdc275f2c14",
        "colab": {
          "base_uri": "https://localhost:8080/",
          "height": 34
        }
      },
      "source": [
        "predicted.shape"
      ],
      "execution_count": 12,
      "outputs": [
        {
          "output_type": "execute_result",
          "data": {
            "text/plain": [
              "(889,)"
            ]
          },
          "metadata": {
            "tags": []
          },
          "execution_count": 12
        }
      ]
    },
    {
      "cell_type": "code",
      "metadata": {
        "id": "X4eAQ5FXTB3d",
        "outputId": "663e382d-b7d6-41ac-9994-f1cd2d02ab04",
        "colab": {
          "base_uri": "https://localhost:8080/",
          "height": 380
        }
      },
      "source": [
        "plt.hist([predicted,y_test])"
      ],
      "execution_count": 14,
      "outputs": [
        {
          "output_type": "execute_result",
          "data": {
            "text/plain": [
              "(array([[700., 143.,  30.,   8.,   7.,   1.,   0.,   0.,   0.,   0.],\n",
              "        [704., 133.,  34.,  12.,   3.,   1.,   1.,   0.,   0.,   1.]]),\n",
              " array([-1.02894600e+08,  1.85786758e+08,  4.74468116e+08,  7.63149474e+08,\n",
              "         1.05183083e+09,  1.34051219e+09,  1.62919355e+09,  1.91787491e+09,\n",
              "         2.20655627e+09,  2.49523762e+09,  2.78391898e+09]),\n",
              " <a list of 2 Lists of Patches objects>)"
            ]
          },
          "metadata": {
            "tags": []
          },
          "execution_count": 14
        },
        {
          "output_type": "display_data",
          "data": {
            "image/png": "[encoded data removed]",
            "text/plain": [
              "<Figure size 432x288 with 1 Axes>"
            ]
          },
          "metadata": {
            "tags": [],
            "needs_background": "light"
          }
        }
      ]
    },
    {
      "cell_type": "code",
      "metadata": {
        "id": "ADAn_bQwTtCp",
        "outputId": "974d7503-525b-42b8-eb90-9b41793b9144",
        "colab": {
          "base_uri": "https://localhost:8080/",
          "height": 34
        }
      },
      "source": [
        "model.score(X_test,y_test)"
      ],
      "execution_count": 15,
      "outputs": [
        {
          "output_type": "execute_result",
          "data": {
            "text/plain": [
              "0.7796936832350332"
            ]
          },
          "metadata": {
            "tags": []
          },
          "execution_count": 15
        }
      ]
    },
    {
      "cell_type": "code",
      "metadata": {
        "id": "Cpq4aQSjVdce"
      },
      "source": [
        "residuals = y_test - predicted"
      ],
      "execution_count": 16,
      "outputs": []
    },
    {
      "cell_type": "code",
      "metadata": {
        "id": "nPtGcdpXVf7x",
        "outputId": "9fac9863-26ce-40ef-df7a-09bd26c196f0",
        "colab": {
          "base_uri": "https://localhost:8080/",
          "height": 306
        }
      },
      "source": [
        "plt.scatter(y_test,residuals)"
      ],
      "execution_count": 17,
      "outputs": [
        {
          "output_type": "execute_result",
          "data": {
            "text/plain": [
              "<matplotlib.collections.PathCollection at 0x7fa6477f24a8>"
            ]
          },
          "metadata": {
            "tags": []
          },
          "execution_count": 17
        },
        {
          "output_type": "display_data",
          "data": {
            "image/png": "[encoded data removed]",
            "text/plain": [
              "<Figure size 432x288 with 1 Axes>"
            ]
          },
          "metadata": {
            "tags": [],
            "needs_background": "light"
          }
        }
      ]
    },
    {
      "cell_type": "code",
      "metadata": {
        "id": "v5ld0cYFVkN8"
      },
      "source": [
        "ap_residuals = np.abs(residuals) / y_test"
      ],
      "execution_count": 18,
      "outputs": []
    },
    {
      "cell_type": "code",
      "metadata": {
        "id": "idS0_5_4VlNR",
        "outputId": "532ee72a-e43f-4e62-dfc2-1833d1a272fa",
        "colab": {
          "base_uri": "https://localhost:8080/",
          "height": 295
        }
      },
      "source": [
        "plt.scatter(y_test,ap_residuals)"
      ],
      "execution_count": 19,
      "outputs": [
        {
          "output_type": "execute_result",
          "data": {
            "text/plain": [
              "<matplotlib.collections.PathCollection at 0x7fa64779c6d8>"
            ]
          },
          "metadata": {
            "tags": []
          },
          "execution_count": 19
        },
        {
          "output_type": "display_data",
          "data": {
            "image/png": "[encoded data removed]",
            "text/plain": [
              "<Figure size 432x288 with 1 Axes>"
            ]
          },
          "metadata": {
            "tags": [],
            "needs_background": "light"
          }
        }
      ]
    },
    {
      "cell_type": "code",
      "metadata": {
        "id": "eOKhSoatVviq"
      },
      "source": [
        "lap_residuals = np.log(ap_residuals)"
      ],
      "execution_count": 20,
      "outputs": []
    },
    {
      "cell_type": "code",
      "metadata": {
        "id": "ErmLJNOTVxw4",
        "outputId": "e69fd84a-84d9-47f7-9786-ca6a2cca3ae2",
        "colab": {
          "base_uri": "https://localhost:8080/",
          "height": 295
        }
      },
      "source": [
        "plt.scatter(y_test,lap_residuals)"
      ],
      "execution_count": 21,
      "outputs": [
        {
          "output_type": "execute_result",
          "data": {
            "text/plain": [
              "<matplotlib.collections.PathCollection at 0x7fa6476fe2b0>"
            ]
          },
          "metadata": {
            "tags": []
          },
          "execution_count": 21
        },
        {
          "output_type": "display_data",
          "data": {
            "image/png": "[encoded data removed]",
            "text/plain": [
              "<Figure size 432x288 with 1 Axes>"
            ]
          },
          "metadata": {
            "tags": [],
            "needs_background": "light"
          }
        }
      ]
    },
    {
      "cell_type": "code",
      "metadata": {
        "id": "ZnkvJZorV0fj",
        "outputId": "5f4bef7a-58c3-44ae-8e53-0bfef0f586af",
        "colab": {
          "base_uri": "https://localhost:8080/",
          "height": 979
        }
      },
      "source": [
        "plt.hist(lap_residuals, bins = 100, density = 1, histtype = 'step', cumulative = True)"
      ],
      "execution_count": 23,
      "outputs": [
        {
          "output_type": "execute_result",
          "data": {
            "text/plain": [
              "(array([0.00112486, 0.00112486, 0.00112486, 0.00112486, 0.00112486,\n",
              "        0.00224972, 0.00337458, 0.0056243 , 0.00787402, 0.00899888,\n",
              "        0.00899888, 0.01237345, 0.01237345, 0.01237345, 0.01687289,\n",
              "        0.01799775, 0.01912261, 0.02362205, 0.02587177, 0.02812148,\n",
              "        0.02924634, 0.02924634, 0.03824522, 0.04274466, 0.05511811,\n",
              "        0.06411699, 0.07424072, 0.08436445, 0.09898763, 0.10911136,\n",
              "        0.12373453, 0.14060742, 0.16197975, 0.18335208, 0.22047244,\n",
              "        0.24971879, 0.28458943, 0.32508436, 0.36220472, 0.39482565,\n",
              "        0.43982002, 0.48368954, 0.53430821, 0.57817773, 0.61079865,\n",
              "        0.64904387, 0.68728909, 0.71878515, 0.74353206, 0.77165354,\n",
              "        0.80089989, 0.82452193, 0.8447694 , 0.85489314, 0.86951631,\n",
              "        0.8807649 , 0.89538808, 0.90551181, 0.91451069, 0.92125984,\n",
              "        0.928009  , 0.93813273, 0.94713161, 0.95275591, 0.9583802 ,\n",
              "        0.96287964, 0.96287964, 0.9640045 , 0.96625422, 0.9696288 ,\n",
              "        0.97412823, 0.97525309, 0.98312711, 0.98312711, 0.98650169,\n",
              "        0.98762655, 0.98762655, 0.98762655, 0.98875141, 0.98875141,\n",
              "        0.98875141, 0.98987627, 0.99212598, 0.99212598, 0.99325084,\n",
              "        0.99662542, 0.99775028, 0.99775028, 0.99775028, 0.99775028,\n",
              "        0.99887514, 0.99887514, 0.99887514, 0.99887514, 0.99887514,\n",
              "        0.99887514, 0.99887514, 0.99887514, 0.99887514, 1.        ]),\n",
              " array([-5.86755509, -5.74801318, -5.62847127, -5.50892936, -5.38938745,\n",
              "        -5.26984554, -5.15030363, -5.03076172, -4.9112198 , -4.79167789,\n",
              "        -4.67213598, -4.55259407, -4.43305216, -4.31351025, -4.19396834,\n",
              "        -4.07442643, -3.95488452, -3.83534261, -3.7158007 , -3.59625879,\n",
              "        -3.47671688, -3.35717497, -3.23763305, -3.11809114, -2.99854923,\n",
              "        -2.87900732, -2.75946541, -2.6399235 , -2.52038159, -2.40083968,\n",
              "        -2.28129777, -2.16175586, -2.04221395, -1.92267204, -1.80313013,\n",
              "        -1.68358821, -1.5640463 , -1.44450439, -1.32496248, -1.20542057,\n",
              "        -1.08587866, -0.96633675, -0.84679484, -0.72725293, -0.60771102,\n",
              "        -0.48816911, -0.3686272 , -0.24908529, -0.12954337, -0.01000146,\n",
              "         0.10954045,  0.22908236,  0.34862427,  0.46816618,  0.58770809,\n",
              "         0.70725   ,  0.82679191,  0.94633382,  1.06587573,  1.18541764,\n",
              "         1.30495955,  1.42450147,  1.54404338,  1.66358529,  1.7831272 ,\n",
              "         1.90266911,  2.02221102,  2.14175293,  2.26129484,  2.38083675,\n",
              "         2.50037866,  2.61992057,  2.73946248,  2.85900439,  2.97854631,\n",
              "         3.09808822,  3.21763013,  3.33717204,  3.45671395,  3.57625586,\n",
              "         3.69579777,  3.81533968,  3.93488159,  4.0544235 ,  4.17396541,\n",
              "         4.29350732,  4.41304923,  4.53259115,  4.65213306,  4.77167497,\n",
              "         4.89121688,  5.01075879,  5.1303007 ,  5.24984261,  5.36938452,\n",
              "         5.48892643,  5.60846834,  5.72801025,  5.84755216,  5.96709407,\n",
              "         6.08663599]),\n",
              " <a list of 1 Patch objects>)"
            ]
          },
          "metadata": {
            "tags": []
          },
          "execution_count": 23
        },
        {
          "output_type": "display_data",
          "data": {
            "image/png": "[encoded data removed]",
            "text/plain": [
              "<Figure size 432x288 with 1 Axes>"
            ]
          },
          "metadata": {
            "tags": [],
            "needs_background": "light"
          }
        }
      ]
    },
    {
      "cell_type": "code",
      "metadata": {
        "id": "lkEjvHbeWrVl",
        "outputId": "ce800cde-bc8d-4089-8539-ae4106629952",
        "colab": {
          "base_uri": "https://localhost:8080/",
          "height": 85
        }
      },
      "source": [
        "X.columns"
      ],
      "execution_count": 29,
      "outputs": [
        {
          "output_type": "execute_result",
          "data": {
            "text/plain": [
              "Index(['production_budget', 'title_year', 'aspect_ratio', 'duration.1',\n",
              "       'cast_total_facebook_likes', 'budget', 'imdb_score', 'opening_gross',\n",
              "       'screens'],\n",
              "      dtype='object')"
            ]
          },
          "metadata": {
            "tags": []
          },
          "execution_count": 29
        }
      ]
    },
    {
      "cell_type": "code",
      "metadata": {
        "id": "KYHJCD9UWsaw",
        "outputId": "3c297f19-7b73-4def-becb-b283e73ae226",
        "colab": {
          "base_uri": "https://localhost:8080/",
          "height": 170
        }
      },
      "source": [
        "for i in zip(list(X.columns),list(model.coef_)):\n",
        "    print(i)"
      ],
      "execution_count": 31,
      "outputs": [
        {
          "output_type": "stream",
          "text": [
            "('production_budget', 1.3620758683466856)\n",
            "('title_year', 180279.6094456081)\n",
            "('aspect_ratio', -34619310.35724382)\n",
            "('duration.1', 287967.7263264876)\n",
            "('cast_total_facebook_likes', -142.15147628596938)\n",
            "('budget', -0.002528443337509252)\n",
            "('imdb_score', 25933090.41336239)\n",
            "('opening_gross', 5.811558761819226)\n",
            "('screens', -12070.051729808694)\n"
          ],
          "name": "stdout"
        }
      ]
    }
  ]
}