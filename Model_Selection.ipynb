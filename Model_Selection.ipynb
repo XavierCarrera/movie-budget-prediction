{
  "nbformat": 4,
  "nbformat_minor": 0,
  "metadata": {
    "colab": {
      "name": "Model Selection.ipynb",
      "provenance": [],
      "mount_file_id": "1-KFP3XRB3pgYdGINcmCRj9G7vZG4Imyk",
      "authorship_tag": "ABX9TyNfxJM53UsiqZU3ctbB5MVt",
      "include_colab_link": true
    },
    "kernelspec": {
      "name": "python3",
      "display_name": "Python 3"
    }
  },
  "cells": [
    {
      "cell_type": "markdown",
      "metadata": {
        "id": "view-in-github",
        "colab_type": "text"
      },
      "source": [
        "<a href=\"https://colab.research.google.com/github/XavierCarrera/movie-budget-prediction/blob/main/Model_Selection.ipynb\" target=\"_parent\"><img src=\"https://colab.research.google.com/assets/colab-badge.svg\" alt=\"Open In Colab\"/></a>"
      ]
    },
    {
      "cell_type": "code",
      "metadata": {
        "id": "J0tptOe3ofpz"
      },
      "source": [
        "import warnings\n",
        "warnings.simplefilter(\"ignore\")"
      ],
      "execution_count": 3,
      "outputs": []
    },
    {
      "cell_type": "code",
      "metadata": {
        "id": "gYkZ2OG0or7e"
      },
      "source": [
        "import numpy as np\n",
        "import pandas as pd\n",
        "import matplotlib.pyplot as plt\n",
        "from sklearn.model_selection import train_test_split\n",
        "from sklearn.model_selection import cross_val_score\n",
        "from sklearn.linear_model import Lasso\n",
        "from sklearn.model_selection import cross_validate\n",
        "from sklearn.neighbors import KNeighborsRegressor\n",
        "from sklearn.model_selection import validation_curve\n",
        "from sklearn.model_selection import learning_curve\n",
        "\n",
        "%matplotlib inline"
      ],
      "execution_count": 23,
      "outputs": []
    },
    {
      "cell_type": "code",
      "metadata": {
        "id": "5G5DXYgRo4mG"
      },
      "source": [
        "X = pd.read_csv('/content/drive/My Drive/Colab Notebooks/db/X_opening.csv')\n",
        "y = X['worldwide_gross']\n",
        "X = X.drop('worldwide_gross',axis=1)"
      ],
      "execution_count": 4,
      "outputs": []
    },
    {
      "cell_type": "code",
      "metadata": {
        "id": "046eZR-3pJ6f"
      },
      "source": [
        "X_train,X_test, y_train,y_test = train_test_split(X,y, random_state=1)\n",
        "X2_train,X2_test, y2_train,y2_test = train_test_split(X,y, random_state=1)"
      ],
      "execution_count": 5,
      "outputs": []
    },
    {
      "cell_type": "code",
      "metadata": {
        "id": "MrVgTiFxpSj5",
        "outputId": "facdd3bc-48aa-47a2-c22c-a6d0360da351",
        "colab": {
          "base_uri": "https://localhost:8080/",
          "height": 34
        }
      },
      "source": [
        "pd.DataFrame.equals(X_train,X2_train)"
      ],
      "execution_count": 6,
      "outputs": [
        {
          "output_type": "execute_result",
          "data": {
            "text/plain": [
              "True"
            ]
          },
          "metadata": {
            "tags": []
          },
          "execution_count": 6
        }
      ]
    },
    {
      "cell_type": "code",
      "metadata": {
        "id": "vadNgfczpcWA",
        "outputId": "d9475726-39ff-4367-88dd-efab44cc8035",
        "colab": {
          "base_uri": "https://localhost:8080/",
          "height": 34
        }
      },
      "source": [
        "scores = cross_val_score(Lasso(),X,y,cv=5,scoring='r2')\n",
        "scores"
      ],
      "execution_count": 7,
      "outputs": [
        {
          "output_type": "execute_result",
          "data": {
            "text/plain": [
              "array([0.59316596, 0.68931527, 0.55383855, 0.18147236, 0.23040894])"
            ]
          },
          "metadata": {
            "tags": []
          },
          "execution_count": 7
        }
      ]
    },
    {
      "cell_type": "code",
      "metadata": {
        "id": "bC-m276hpfmV",
        "outputId": "55a050f3-2dc8-47b1-e5a6-7c446136c45b",
        "colab": {
          "base_uri": "https://localhost:8080/",
          "height": 34
        }
      },
      "source": [
        "scores.mean()"
      ],
      "execution_count": 8,
      "outputs": [
        {
          "output_type": "execute_result",
          "data": {
            "text/plain": [
              "0.44964021745791766"
            ]
          },
          "metadata": {
            "tags": []
          },
          "execution_count": 8
        }
      ]
    },
    {
      "cell_type": "code",
      "metadata": {
        "id": "xdStdAHkpgts",
        "outputId": "0ccfd38c-2ec9-437e-fab1-a5d041e88404",
        "colab": {
          "base_uri": "https://localhost:8080/",
          "height": 34
        }
      },
      "source": [
        "Lasso().fit(X_train,y_train).score(X_test,y_test)"
      ],
      "execution_count": 9,
      "outputs": [
        {
          "output_type": "execute_result",
          "data": {
            "text/plain": [
              "0.7926190294963359"
            ]
          },
          "metadata": {
            "tags": []
          },
          "execution_count": 9
        }
      ]
    },
    {
      "cell_type": "code",
      "metadata": {
        "id": "Rru9LXBfpk7G",
        "outputId": "72a6cc45-2a26-4904-f448-6be6308f8504",
        "colab": {
          "base_uri": "https://localhost:8080/",
          "height": 85
        }
      },
      "source": [
        "results = cross_validate(Lasso(),X,y,return_train_score=True,cv=5)\n",
        "results"
      ],
      "execution_count": 11,
      "outputs": [
        {
          "output_type": "execute_result",
          "data": {
            "text/plain": [
              "{'fit_time': array([0.00787759, 0.02791047, 0.02451634, 0.02354264, 0.01945186]),\n",
              " 'score_time': array([0.00190639, 0.00206685, 0.00204396, 0.00195074, 0.00199604]),\n",
              " 'test_score': array([0.59316596, 0.68931527, 0.55383855, 0.18147236, 0.23040894]),\n",
              " 'train_score': array([0.68988012, 0.77004932, 0.76604995, 0.76123379, 0.75837599])}"
            ]
          },
          "metadata": {
            "tags": []
          },
          "execution_count": 11
        }
      ]
    },
    {
      "cell_type": "code",
      "metadata": {
        "id": "AIicnpavpzuk",
        "outputId": "d887a123-ab81-4b3f-851f-bd5f8449da37",
        "colab": {
          "base_uri": "https://localhost:8080/",
          "height": 51
        }
      },
      "source": [
        "test_scores = results['test_score']\n",
        "train_scores = results['train_score']\n",
        "print(np.mean(train_scores))\n",
        "print(np.mean(test_scores))"
      ],
      "execution_count": 12,
      "outputs": [
        {
          "output_type": "stream",
          "text": [
            "0.7491178363039036\n",
            "0.44964021745791766\n"
          ],
          "name": "stdout"
        }
      ]
    },
    {
      "cell_type": "code",
      "metadata": {
        "id": "pvUPhQNVp_nS",
        "outputId": "374c768b-aa14-4ac6-ecfc-746d4534def1",
        "colab": {
          "base_uri": "https://localhost:8080/",
          "height": 68
        }
      },
      "source": [
        "cross_validate(KNeighborsRegressor(), X, y, cv=5)"
      ],
      "execution_count": 14,
      "outputs": [
        {
          "output_type": "execute_result",
          "data": {
            "text/plain": [
              "{'fit_time': array([0.0070107 , 0.00359774, 0.00286222, 0.00271535, 0.00295734]),\n",
              " 'score_time': array([0.00447011, 0.00474143, 0.00417209, 0.00413203, 0.00341964]),\n",
              " 'test_score': array([0.3647382 , 0.59274527, 0.21545625, 0.15143495, 0.25635077])}"
            ]
          },
          "metadata": {
            "tags": []
          },
          "execution_count": 14
        }
      ]
    },
    {
      "cell_type": "code",
      "metadata": {
        "id": "jEjDuXPZqCZl",
        "outputId": "771630f1-aa98-44f1-cf8e-37469502a063",
        "colab": {
          "base_uri": "https://localhost:8080/",
          "height": 68
        }
      },
      "source": [
        "cross_validate(KNeighborsRegressor(n_neighbors=10), X, y, cv=5)"
      ],
      "execution_count": 15,
      "outputs": [
        {
          "output_type": "execute_result",
          "data": {
            "text/plain": [
              "{'fit_time': array([0.00413108, 0.00311089, 0.00274777, 0.00273848, 0.00274539]),\n",
              " 'score_time': array([0.00542927, 0.00484228, 0.00485015, 0.00463104, 0.00391459]),\n",
              " 'test_score': array([0.23553954, 0.61921355, 0.24881301, 0.1209604 , 0.2466995 ])}"
            ]
          },
          "metadata": {
            "tags": []
          },
          "execution_count": 15
        }
      ]
    },
    {
      "cell_type": "code",
      "metadata": {
        "id": "kPBf876lqayP"
      },
      "source": [
        "n = np.arange(2,50,2)"
      ],
      "execution_count": 19,
      "outputs": []
    },
    {
      "cell_type": "code",
      "metadata": {
        "id": "HyIc68bEqE92"
      },
      "source": [
        "train_scores, test_scores = validation_curve(KNeighborsRegressor(),\n",
        "                                            X,\n",
        "                                            y,\n",
        "                                            param_name='n_neighbors',\n",
        "                                            param_range=n,\n",
        "                                            cv=5)"
      ],
      "execution_count": 20,
      "outputs": []
    },
    {
      "cell_type": "code",
      "metadata": {
        "id": "wlkGXe_pqiTe",
        "outputId": "600834f7-1680-453b-a371-d16c93207f73",
        "colab": {
          "base_uri": "https://localhost:8080/",
          "height": 102
        }
      },
      "source": [
        "np.mean(train_scores,axis=1)"
      ],
      "execution_count": 21,
      "outputs": [
        {
          "output_type": "execute_result",
          "data": {
            "text/plain": [
              "array([0.86831591, 0.79120817, 0.7593398 , 0.7498298 , 0.74238245,\n",
              "       0.73284018, 0.72586058, 0.71779833, 0.71281982, 0.70976325,\n",
              "       0.70723469, 0.70502429, 0.70174649, 0.69741543, 0.69379214,\n",
              "       0.69163113, 0.68955146, 0.6862285 , 0.68321376, 0.68018032,\n",
              "       0.67885534, 0.67522056, 0.67135123, 0.66953759])"
            ]
          },
          "metadata": {
            "tags": []
          },
          "execution_count": 21
        }
      ]
    },
    {
      "cell_type": "code",
      "metadata": {
        "id": "AIevJ47Wql3U",
        "outputId": "faf472b8-f825-4fbf-d148-f294d503a9e7",
        "colab": {
          "base_uri": "https://localhost:8080/",
          "height": 269
        }
      },
      "source": [
        "plt.plot(np.mean(train_scores,axis=1))\n",
        "plt.plot(np.mean(test_scores,axis=1))\n",
        "plt.xticks(np.arange(24),n);"
      ],
      "execution_count": 22,
      "outputs": [
        {
          "output_type": "display_data",
          "data": {
            "image/png": "[encoded data removed]",
            "text/plain": [
              "<Figure size 432x288 with 1 Axes>"
            ]
          },
          "metadata": {
            "tags": [],
            "needs_background": "light"
          }
        }
      ]
    },
    {
      "cell_type": "code",
      "metadata": {
        "id": "cQhTmpOnq1hY"
      },
      "source": [
        "lc = learning_curve(KNeighborsRegressor(n_neighbors=6),X,y,cv=5)\n",
        "samples, train, test = lc[0], lc[1], lc[2]"
      ],
      "execution_count": 24,
      "outputs": []
    },
    {
      "cell_type": "code",
      "metadata": {
        "id": "WKCSZt0PrAMt",
        "outputId": "3d5d32d5-64e4-41a1-ce82-1f07f33de5b7",
        "colab": {
          "base_uri": "https://localhost:8080/",
          "height": 282
        }
      },
      "source": [
        "plt.plot(samples[1:],np.mean(train,axis=1)[1:])\n",
        "plt.plot(samples[1:],np.mean(test,axis=1)[1:])"
      ],
      "execution_count": 25,
      "outputs": [
        {
          "output_type": "execute_result",
          "data": {
            "text/plain": [
              "[<matplotlib.lines.Line2D at 0x7f5d2fb54a20>]"
            ]
          },
          "metadata": {
            "tags": []
          },
          "execution_count": 25
        },
        {
          "output_type": "display_data",
          "data": {
            "image/png": "[encoded data removed]",
            "text/plain": [
              "<Figure size 432x288 with 1 Axes>"
            ]
          },
          "metadata": {
            "tags": [],
            "needs_background": "light"
          }
        }
      ]
    }
  ]
}